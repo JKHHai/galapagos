{
 "cells": [
  {
   "cell_type": "markdown",
   "metadata": {},
   "source": [
    "# Welcome To Galapagos Middleware Tutorial"
   ]
  },
  {
   "cell_type": "markdown",
   "metadata": {},
   "source": [
    "The Galapagos Middleware presents an orchestration framework to create multi-FPGA and CPU networks and can be built on top of any device that has a Galapagos Hypervisor.\n",
    "\n",
    "## Prerequisites\n",
    "\n",
    "If you are using the provided container, skip steps 1, 7\n",
    "0. Install Vivado on your machine\n",
    "1. `git clone --recursive https://github.com/UofT-HPRC/galapagos.git` <br/> This clones the Galapagos directory\n",
    "2. `cd <galapagos_dir>`\n",
    "3. `source build.sh` <br/> This sets up the environment variables needed to run the code within the tutorial\n",
    "4.  `galapagos-update-board adm-8k5-debug` <br/>\n",
    "5. `make hlsmiddleware` <br/> This makes all the IPs needed to connect boards.\n",
    "6. Repeat steps 4, 5 for all other boards you wish to support.\n",
    "7. `git clone https://github.com/tarafdar/HCAL_HLS4ML` <br/> This is an example project from the HLS4ML project. We will use this kernel within our example"
   ]
  },
  {
   "cell_type": "markdown",
   "metadata": {},
   "source": [
    "\n",
    "## Galapagos Hypervisor \n",
    "\n",
    "The following few cells provide an overview of the Galapagos Hypervisor and Middleware\n",
    "If you would like to go straight into building your own kernels you can jump to section <a href='#own_example'>Building Your Own Example'</a>\n",
    "\n",
    "\n",
    "### Hypervisor Overview\n",
    "\n",
    "The Middleware places Galapagos streaming kernels onto multiple streaming devices. \n",
    "A Galapagos streaming devices, includes devices that currently have a Galapagos Hypervisor built for it.\n",
    "A Galapagos hypervisor abstracts the device as a streaming device.\n",
    "\n",
    "The following are two shells of two different FPGA Boards we have:\n",
    "\n",
    "\n",
    "<img style=\"float: left;\" src=\"fig/7v3_shell.png\"/>          <img style=\"float: left;\" src=\"fig/mpsoc_shell.png\"/>"
   ]
  },
  {
   "cell_type": "markdown",
   "metadata": {},
   "source": [
    "The turqouise part of these hypervisors is where the user application will sit. Note that even though the network and memory interfaces on these boards are different, through the hypervisor the user interacts with both of these devices through the same interfaces.\n",
    "\n",
    "This principle is also applied to a CPU interface in the following shell:\n",
    "\n",
    "<img style=\"float: left;\" src=\"fig/cpu_shell.png\"/> "
   ]
  },
  {
   "cell_type": "markdown",
   "metadata": {},
   "source": [
    "As you can see across all three shells we have consistent interfaces. This allows us to have portability across different kernels across different boards as well as functional portability between hardware and software.    "
   ]
  },
  {
   "cell_type": "markdown",
   "metadata": {},
   "source": [
    "## Galapagos Middleware\n",
    "\n",
    "The middleware places kernels (software and hardware) onto multiple Galapagos devices described in the Galapagos Hypervisor section. A kernel can be visually represented as the following:\n",
    "\n",
    "<img style=\"float: left;\" src=\"fig/kernel.png\"/>   "
   ]
  },
  {
   "cell_type": "markdown",
   "metadata": {},
   "source": [
    "Each kernel has a galapagos-stream in and a galapagos-stream out. This is a specific implementation of the AXI-Stream protocol. Each galapagos-stream has a dest and an id field, the dest specifies the target kernel and the id references the source of the packet. Any kernel within the cluster can reference any other kernel by specifiying the kernel destination in the dest field. This destination is independent of the actual physical mapping of the kernel.\n",
    "This notion can be represented through a logical description and a mapping, with the use of these descriptions we can transform a logical cluster into a physical cluster.\n",
    "\n",
    "The following is a pictoral example: \n",
    "\n",
    "<img style=\"float: left;\" src=\"fig/logical_to_physical.png\"/> \n"
   ]
  },
  {
   "cell_type": "markdown",
   "metadata": {},
   "source": [
    "<a id='own_example'></a>\n",
    "\n",
    "# Building Your Own Example\n",
    "\n",
    "The following is an example logical_file:"
   ]
  },
  {
   "cell_type": "code",
   "execution_count": 1,
   "metadata": {},
   "outputs": [],
   "source": [
    "logical_file = {\n",
    "\t\"cluster\": {\n",
    "\t\t\"kernel\": [\n",
    "\t\t\t{\n",
    "\t\t\t\t\"num\": \"0\",\n",
    "\t\t\t\t\"rep\": \"1\",\n",
    "\t\t\t\t\"clk\": \"ap_clk\",\n",
    "\t\t\t\t\"aresetn\": \"ap_rst_n\",\n",
    "\t\t\t\t\"s_axis\": {\n",
    "\t\t\t\t\t\"scope\": \"global\",\n",
    "\t\t\t\t\t\"name\": \"in_r\"\n",
    "\t\t\t\t},\n",
    "\t\t\t\t\"m_axis\": {\n",
    "\t\t\t\t\t\"scope\": \"global\",\n",
    "\t\t\t\t\t\"name\": \"out_r\"\n",
    "\t\t\t\t},\n",
    "\t\t\t\t\"#text\": \"kern_send\"\n",
    "\t\t\t},\n",
    "\t\t\t{\n",
    "\t\t\t\t\"num\": \"1\",\n",
    "\t\t\t\t\"rep\": \"1\",\n",
    "\t\t\t\t\"clk\": \"ap_clk\",\n",
    "\t\t\t\t\"vendor\": \"xilinx.com\",\n",
    "\t\t\t\t\"lib\": \"hls\",\n",
    "\t\t\t\t\"aresetn\": \"ap_rst_n\",\n",
    "\t\t\t\t\"s_axis\": {\n",
    "\t\t\t\t\t\"scope\": \"global\",\n",
    "\t\t\t\t\t\"name\": \"in_r\"\n",
    "\t\t\t\t},\n",
    "\t\t\t\t\"m_axis\": {\n",
    "\t\t\t\t\t\"scope\": \"global\",\n",
    "\t\t\t\t\t\"name\": \"out_r\"\n",
    "\t\t\t\t},\n",
    "\t\t\t\t\"id_port\": \"id_V\",\n",
    "\t\t\t\t\"#text\": \"hls4ml_hcal\"\n",
    "\t\t\t}\n",
    "\t\t]\n",
    "\t}\n",
    "}"
   ]
  },
  {
   "cell_type": "markdown",
   "metadata": {},
   "source": [
    "The above logical file describes two kernels within the cluster. \n",
    "\n",
    "The `<num>` field represents the kernel id of that specific kernel. Any other kernel when setting their dest to this number will send a packet to this kernel. <br/>\n",
    "The `<rep>` field represents the number of times to repeat this kernel within the cluster (on any device). <br/>\n",
    "The `<clk>` field represents the name of the port that is the clock port. <br/>\n",
    "The `<aresetn>` field represents the name of the reset n port.\n",
    "\n",
    "Next each kernel also has an `<s_axis>` which represents the galapagos stream in and the `<m_axis>` which represents the galpagos stream out.\n",
    "Each of these is set to a `\"scope\", \"global\"`. This allows these streams to be directly accessible by any other kernel in the global dest addressing scheme. We also can set extra `\"local\"` connections, which directly connects kernels together.\n",
    "\n",
    "The `<id_port>` refers to the name of the port that we wish to attach a constant representing the id of the kernel. This can be used internally to figure out the destinations of other kernels relative to your own id.\n",
    "\n",
    "The `<#text>` refers to the name of the kernel ip core.\n",
    "\n",
    "Below is an example of a map_file:"
   ]
  },
  {
   "cell_type": "code",
   "execution_count": 2,
   "metadata": {},
   "outputs": [],
   "source": [
    "map_file = {\n",
    "\t\"cluster\": {\n",
    "\t\t\"node\": [\n",
    "\t\t\t{\n",
    "\t\t\t\t\"type\": \"sw\",\n",
    "\t\t\t\t\"kernel\": [\n",
    "\t\t\t\t\t\"0\"\n",
    "\t\t\t\t],\n",
    "\t\t\t\t\"mac\": \"0c:c4:7a:88:c0:47\",\n",
    "\t\t\t\t\"ip\": \"10.1.2.155\"\n",
    "\t\t\t},\n",
    "\t\t\t{\n",
    "\t\t\t\t\"board\": \"adm-8k5-debug\",\n",
    "\t\t\t\t\"comm\": \"tcp\",\n",
    "\t\t\t\t\"type\": \"hw\",\n",
    "\t\t\t\t\"kernel\": \"1\",\n",
    "\t\t\t\t\"mac\": \"fa:16:3e:55:ca:02\",\n",
    "\t\t\t\t\"ip\": \"10.1.2.156\"\n",
    "\t\t\t}\n",
    "\t\t]\n",
    "\t}\n",
    "}"
   ]
  },
  {
   "cell_type": "markdown",
   "metadata": {},
   "source": [
    "The above map file describes two nodes within the cluster.\n",
    "\n",
    "The `<type>` field can be hardware or software. <br/>\n",
    "The `<kernel>` field can be a list or an individual kernel. This refers to the kernels by number in the logical file to be placed in this node. <br/>\n",
    "The `<mac>` field refers to the nodes L2 Mac address. <br/>\n",
    "The `<ip>` field refers to the nodes L3 IP Address. <br/>\n",
    "Currently the only off-chip communication support in software is TCP/IP. However if the node is a hardware node we can specify the `<comm>` field which denotes the off-chip communication protocol to be used. <br/>\n",
    "Furthermore if the node is a hardware node, the `<board>` denotes the type of board this node is. <br/>\n",
    "\n",
    "Next we will generate the script files to build our vivado projects using the logical and map file."
   ]
  },
  {
   "cell_type": "code",
   "execution_count": 3,
   "metadata": {},
   "outputs": [],
   "source": [
    "import os\n",
    "from cluster import cluster\n",
    "\n",
    "project_name = \"middleware_test\"\n",
    "path = str(os.environ.get('GALAPAGOS_PATH'))+ \"/projects\"\n",
    "\n",
    "cluster_inst = cluster(project_name, logical_file, map_file, mode='dict')\n",
    "cluster_inst.makeProjectClusterScript(path)\n",
    "cluster_inst.writeClusterTCL(path, 0)\n",
    "cluster_inst.writeBRAMFile(path, 'mac')\n",
    "cluster_inst.writeBRAMFile(path, 'ip')"
   ]
  },
  {
   "cell_type": "markdown",
   "metadata": {},
   "source": [
    "This will create a cluster in `<galapagos_home>/projects/middleware_test` as we set `middleware_test` as the `project_name`.\n",
    "However we are not yet ready to create the project as the scripts assume all the IP cores are ready to use.  The section below shows how to create the kernels and where to place them such that our scripts can find all the ip cores."
   ]
  },
  {
   "cell_type": "markdown",
   "metadata": {},
   "source": [
    "## Creating User Kernels \n",
    "\n",
    "To create a user kernel in hardware you can import the variables with the appropriate part-name by changing the current board by: <br/>\n",
    "`galapagos-update-board <board_name>`\n",
    "\n",
    "With the available boardnames as adm-8k5-debug, sidewinder\n",
    "\n",
    "\n",
    "For this example (if you have vivado hls installed) please: <br/>\n",
    "\n",
    "```\n",
    "cd <HLS4ML_HCAL_home>\n",
    "galapagos-update-board adm-8k5-debug\n",
    "make hls\n",
    "```\n",
    "\n",
    "Make sure all ip cores of kernels are located in `<galapagos_home>/hlsBuild/<board_name>/ip`\n",
    "\n",
    "This will generate the hls ip for the adm-8k5 board.  The example generate_hls.tcl script ensures the ip cores are correctly placed."
   ]
  },
  {
   "cell_type": "markdown",
   "metadata": {},
   "source": [
    "## Building Your Projects\n",
    "\n",
    "To make your final project navigate to `<galapagos_home>/projects/middleware_test`\n",
    "\n",
    "`source createCluster.sh`\n",
    "\n",
    "This will build all the vivado projects."
   ]
  },
  {
   "cell_type": "markdown",
   "metadata": {},
   "source": []
  }
 ],
 "metadata": {
  "kernelspec": {
   "display_name": "Python 2",
   "language": "python",
   "name": "python2"
  },
  "language_info": {
   "codemirror_mode": {
    "name": "ipython",
    "version": 3
   },
   "file_extension": ".py",
   "mimetype": "text/x-python",
   "name": "python",
   "nbconvert_exporter": "python",
   "pygments_lexer": "ipython3",
   "version": "3.5.2"
  }
 },
 "nbformat": 4,
 "nbformat_minor": 2
}
