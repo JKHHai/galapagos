{
 "cells": [
  {
   "cell_type": "markdown",
   "metadata": {},
   "source": [
    "# Welcome To The Galapagos Setup"
   ]
  },
  {
   "cell_type": "markdown",
   "metadata": {},
   "source": [
    "The Galapagos Middleware presents an orchestration framework to create multi-FPGA and CPU networks and can be built on top of any device that has a Galapagos Hypervisor."
   ]
  },
  {
   "cell_type": "markdown",
   "metadata": {},
   "source": [
    "<a id='own_example'></a>\n",
    "\n",
    "# Setup\n",
    "\n",
    "## Setup Environment Variables\n",
    "\n",
    "The following cells follow the initial setup. The first sets up the environment variables needed by the scripts below."
   ]
  },
  {
   "cell_type": "code",
   "execution_count": null,
   "metadata": {},
   "outputs": [],
   "source": [
    "%%bash\n",
    "\n",
    "galapagos_path=/home/user/galapagos\n",
    "cd $galapagos_path\n",
    "\n",
    "vivado_version=2018.1\n",
    "hls_version=2018.1\n",
    "galapagos_board=adm-8k5-debug\n",
    "vivado_path=/opt/Xilinx/Vivado\n",
    "hls_path=/opt/Xilinx/Vivado\n",
    "\n",
    "source init.sh $galapagos_path $vivado_path $hls_path $vivado_version $hls_version\n",
    "galapagos-update-board $galapagos_board"
   ]
  },
  {
   "cell_type": "markdown",
   "metadata": {},
   "source": [
    "## Make Middleware IP\n",
    "\n",
    "\n",
    "Next we need to build the IP cores used by the middleware layer to connect different Galapagos objects"
   ]
  },
  {
   "cell_type": "code",
   "execution_count": null,
   "metadata": {},
   "outputs": [],
   "source": [
    "%%bash\n",
    "source $GALAPAGOS_VIVADO_PATH/settings64.sh\n",
    "\n",
    "cd $GALAPAGOS_PATH\n",
    "make hlsmiddleware  "
   ]
  },
  {
   "cell_type": "markdown",
   "metadata": {},
   "source": [
    "## Creating User Kernels \n",
    "\n",
    "To create a user kernel it is very similar to that of creating the hlsmiddleware in the previous section.\n",
    "In the following we have an example.\n",
    "\n",
    "First we set the board we wish to target:"
   ]
  },
  {
   "cell_type": "code",
   "execution_count": null,
   "metadata": {},
   "outputs": [],
   "source": [
    "%%bash\n",
    "\n",
    "galapagos-update-board adm-8k5-debug"
   ]
  },
  {
   "cell_type": "markdown",
   "metadata": {},
   "source": [
    "Next we make the kernel:"
   ]
  },
  {
   "cell_type": "code",
   "execution_count": null,
   "metadata": {},
   "outputs": [],
   "source": [
    "%%bash \n",
    "\n",
    "cd /home/user/HCAL_HLS4ML\n",
    "make hls"
   ]
  },
  {
   "cell_type": "markdown",
   "metadata": {},
   "source": [
    "This will place the generated IP cores in `<galapagos_home>/hlsBuild/<board_name>/ip`. Here we can see all the IP cores that we have created for this board. This includes the middleware IP cores and the User IP cores"
   ]
  },
  {
   "cell_type": "code",
   "execution_count": null,
   "metadata": {},
   "outputs": [],
   "source": [
    "%%bash\n",
    "\n",
    "cd $GALAPAGOS_PATH/hlsBuild/$GALAPAGOS_BOARD_NAME/ip\n",
    "ls"
   ]
  },
  {
   "cell_type": "markdown",
   "metadata": {},
   "source": [
    "Now that we have created our IP cores, we can describe them in a cluster and stitch them together. <a href='http://127.0.0.1:9000/notebooks/02_middleware.ipynb'>Using the Middleware'</a>"
   ]
  }
 ],
 "metadata": {
  "kernelspec": {
   "display_name": "Bash",
   "language": "bash",
   "name": "bash"
  },
  "language_info": {
   "codemirror_mode": "shell",
   "file_extension": ".sh",
   "mimetype": "text/x-sh",
   "name": "bash"
  }
 },
 "nbformat": 4,
 "nbformat_minor": 2
}
