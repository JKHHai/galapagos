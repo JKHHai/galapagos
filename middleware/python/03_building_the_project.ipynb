{
 "cells": [
  {
   "cell_type": "markdown",
   "metadata": {},
   "source": [
    "# Building Your Projects\n",
    "\n",
    "To make your final project navigate to `<galapagos_home>/projects/middleware_test`\n",
    "\n",
    "`source createCluster.sh`\n",
    "\n",
    "This will build all the vivado projects. You can run it below, but it is highly recommended you run this in your own terminal as this is a long running process."
   ]
  },
  {
   "cell_type": "code",
   "execution_count": null,
   "metadata": {},
   "outputs": [],
   "source": [
    "project_name=middleware_test\n",
    "\n",
    "cd $GALAPAGOS_PATH/projects/$project_name\n",
    "source createCluster.sh"
   ]
  }
 ],
 "metadata": {
  "kernelspec": {
   "display_name": "Bash",
   "language": "bash",
   "name": "bash"
  },
  "language_info": {
   "codemirror_mode": "shell",
   "file_extension": ".sh",
   "mimetype": "text/x-sh",
   "name": "bash"
  }
 },
 "nbformat": 4,
 "nbformat_minor": 2
}
